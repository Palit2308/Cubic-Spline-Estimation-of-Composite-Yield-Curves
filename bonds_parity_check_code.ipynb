{
 "cells": [
  {
   "cell_type": "code",
   "execution_count": 229,
   "metadata": {},
   "outputs": [],
   "source": [
    "import pandas as pd\n",
    "import numpy as np"
   ]
  },
  {
   "cell_type": "code",
   "execution_count": 230,
   "metadata": {},
   "outputs": [],
   "source": [
    "country = 'Estonia'"
   ]
  },
  {
   "cell_type": "code",
   "execution_count": 231,
   "metadata": {},
   "outputs": [],
   "source": [
    "df1= pd.read_excel(f\"C:/Users/defaultuser0/Desktop/Sneha_thesis/excel_files/Sov_Dirty_Prices/{country}_sov_dirtyprice.xlsx\")\n",
    "df2= pd.read_excel(f\"C:/Users/defaultuser0/Desktop/Sneha_thesis/excel_files/Sov_DTM/{country}_sov_dtm.xlsx\")\n",
    "df3 = pd.read_excel(f\"C:/Users/defaultuser0/Desktop/Sneha_thesis/excel_files/Sov_Coupons/{country}_sov_coupon.xlsx\")\n",
    "df4 = pd.read_excel(f\"C:/Users/defaultuser0/Desktop/Sneha_thesis/excel_files/Sov_Coupon_Dates/{country}.xlsx\")"
   ]
  },
  {
   "cell_type": "code",
   "execution_count": 232,
   "metadata": {},
   "outputs": [
    {
     "name": "stdout",
     "output_type": "stream",
     "text": [
      "df1 and df2 have the same columns.\n"
     ]
    }
   ],
   "source": [
    "import pandas as pd\n",
    "\n",
    "# Assuming df1 and df2 are your dataframes\n",
    "\n",
    "# Get the columns of each dataframe as a set\n",
    "columns_df1 = set(df1.columns)\n",
    "columns_df2 = set(df2.columns)\n",
    "\n",
    "# Find the differences\n",
    "diff_df1_df2 = columns_df1.symmetric_difference(columns_df2)\n",
    "\n",
    "# Display the differences\n",
    "if not diff_df1_df2:\n",
    "    print(\"df1 and df2 have the same columns.\")\n",
    "else:\n",
    "    print(f\"Differences between df1 and df2: {diff_df1_df2}\")\n"
   ]
  },
  {
   "cell_type": "code",
   "execution_count": 233,
   "metadata": {},
   "outputs": [
    {
     "name": "stdout",
     "output_type": "stream",
     "text": [
      "Differences between df1 vs df3: {'234YWT(GP)'}\n",
      "Differences between df1 vs df4: {'234YWT(GP)', 'Code'}\n",
      "Differences between df2 vs df3: {'234YWT(GP)'}\n",
      "Differences between df2 vs df4: {'234YWT(GP)', 'Code'}\n",
      "Differences between df3 vs df1: {'234YWT(GP)'}\n",
      "Differences between df3 vs df2: {'234YWT(GP)'}\n",
      "Differences between df3 vs df4: {'Code'}\n",
      "Differences between df4 vs df1: {'Code', '234YWT(GP)'}\n",
      "Differences between df4 vs df2: {'Code', '234YWT(GP)'}\n",
      "Differences between df4 vs df3: {'Code'}\n"
     ]
    }
   ],
   "source": [
    "import pandas as pd\n",
    "\n",
    "# Assuming df1, df2, df3, df4 are your dataframes\n",
    "\n",
    "# Step 1: Get the columns of each dataframe as a set\n",
    "columns_df1 = set(df1.columns)\n",
    "columns_df2 = set(df2.columns)\n",
    "columns_df3 = set(df3.columns)\n",
    "columns_df4 = set(df4.columns)\n",
    "\n",
    "# Step 2: Compare the sets of columns\n",
    "all_columns = {\n",
    "    \"df1\": columns_df1,\n",
    "    \"df2\": columns_df2,\n",
    "    \"df3\": columns_df3,\n",
    "    \"df4\": columns_df4\n",
    "}\n",
    "\n",
    "# Find the differences\n",
    "differences = {}\n",
    "for name1, cols1 in all_columns.items():\n",
    "    for name2, cols2 in all_columns.items():\n",
    "        if name1 != name2:\n",
    "            diff = cols1.symmetric_difference(cols2)\n",
    "            if diff:\n",
    "                differences[f\"{name1} vs {name2}\"] = diff\n",
    "\n",
    "# Step 3: Display the differences\n",
    "if not differences:\n",
    "    print(\"All dataframes have the same columns.\")\n",
    "else:\n",
    "    for df_pair, diff in differences.items():\n",
    "        print(f\"Differences between {df_pair}: {diff}\")\n"
   ]
  },
  {
   "cell_type": "code",
   "execution_count": 234,
   "metadata": {},
   "outputs": [
    {
     "name": "stdout",
     "output_type": "stream",
     "text": [
      "Columns in df3 after filtering: Index(['Code', '608V4D(GP)', '9559Z4(GP)'], dtype='object')\n",
      "Columns in df4 after filtering: Index(['608V4D(GP)', '9559Z4(GP)'], dtype='object')\n"
     ]
    }
   ],
   "source": [
    "import pandas as pd\n",
    "\n",
    "# Assuming df1, df3, and df4 are your dataframes\n",
    "\n",
    "# Get the columns of df1 as a set\n",
    "columns_df1 = set(df1.columns)\n",
    "\n",
    "# Drop columns in df3 that are not in df1\n",
    "df3 = df3[df3.columns.intersection(columns_df1)]\n",
    "\n",
    "# Drop columns in df4 that are not in df1\n",
    "df4 = df4[df4.columns.intersection(columns_df1)]\n",
    "\n",
    "print(\"Columns in df3 after filtering:\", df3.columns)\n",
    "print(\"Columns in df4 after filtering:\", df4.columns)\n"
   ]
  },
  {
   "cell_type": "code",
   "execution_count": 235,
   "metadata": {},
   "outputs": [
    {
     "name": "stdout",
     "output_type": "stream",
     "text": [
      "Differences between df1 vs df4: {'Code'}\n",
      "Differences between df2 vs df4: {'Code'}\n",
      "Differences between df3 vs df4: {'Code'}\n",
      "Differences between df4 vs df1: {'Code'}\n",
      "Differences between df4 vs df2: {'Code'}\n",
      "Differences between df4 vs df3: {'Code'}\n"
     ]
    }
   ],
   "source": [
    "import pandas as pd\n",
    "\n",
    "# Assuming df1, df2, df3, df4 are your dataframes\n",
    "\n",
    "# Step 1: Get the columns of each dataframe as a set\n",
    "columns_df1 = set(df1.columns)\n",
    "columns_df2 = set(df2.columns)\n",
    "columns_df3 = set(df3.columns)\n",
    "columns_df4 = set(df4.columns)\n",
    "\n",
    "# Step 2: Compare the sets of columns\n",
    "all_columns = {\n",
    "    \"df1\": columns_df1,\n",
    "    \"df2\": columns_df2,\n",
    "    \"df3\": columns_df3,\n",
    "    \"df4\": columns_df4\n",
    "}\n",
    "\n",
    "# Find the differences\n",
    "differences = {}\n",
    "for name1, cols1 in all_columns.items():\n",
    "    for name2, cols2 in all_columns.items():\n",
    "        if name1 != name2:\n",
    "            diff = cols1.symmetric_difference(cols2)\n",
    "            if diff:\n",
    "                differences[f\"{name1} vs {name2}\"] = diff\n",
    "\n",
    "# Step 3: Display the differences\n",
    "if not differences:\n",
    "    print(\"All dataframes have the same columns.\")\n",
    "else:\n",
    "    for df_pair, diff in differences.items():\n",
    "        print(f\"Differences between {df_pair}: {diff}\")\n"
   ]
  },
  {
   "cell_type": "code",
   "execution_count": 236,
   "metadata": {},
   "outputs": [
    {
     "name": "stdout",
     "output_type": "stream",
     "text": [
      "The columns in df1, df2, and df3 have the same order.\n"
     ]
    }
   ],
   "source": [
    "import pandas as pd\n",
    "\n",
    "# Assuming df1, df2, df3 are your dataframes\n",
    "\n",
    "# Get the list of columns for each dataframe\n",
    "columns_df1 = list(df1.columns)\n",
    "columns_df2 = list(df2.columns)\n",
    "columns_df3 = list(df3.columns)\n",
    "\n",
    "# Check if the order of columns is the same\n",
    "if columns_df1 == columns_df2 == columns_df3:\n",
    "    print(\"The columns in df1, df2, and df3 have the same order.\")\n",
    "else:\n",
    "    print(\"The columns do not have the same order.\")\n",
    "    \n",
    "    # Identify where the differences are\n",
    "    if columns_df1 != columns_df2:\n",
    "        print(\"Differences between df1 and df2:\")\n",
    "        print(f\"df1 columns: {columns_df1}\")\n",
    "        print(f\"df2 columns: {columns_df2}\")\n",
    "        \n",
    "    if columns_df1 != columns_df3:\n",
    "        print(\"Differences between df1 and df3:\")\n",
    "        print(f\"df1 columns: {columns_df1}\")\n",
    "        print(f\"df3 columns: {columns_df3}\")\n",
    "        \n",
    "    if columns_df2 != columns_df3:\n",
    "        print(\"Differences between df2 and df3:\")\n",
    "        print(f\"df2 columns: {columns_df2}\")\n",
    "        print(f\"df3 columns: {columns_df3}\")\n"
   ]
  },
  {
   "cell_type": "code",
   "execution_count": 237,
   "metadata": {},
   "outputs": [
    {
     "name": "stdout",
     "output_type": "stream",
     "text": [
      "Columns in df1 after sorting: Index(['Code', '608V4D(GP)', '9559Z4(GP)'], dtype='object')\n",
      "Columns in df2 after sorting: Index(['Code', '608V4D(GP)', '9559Z4(GP)'], dtype='object')\n",
      "Columns in df3 after sorting: Index(['Code', '608V4D(GP)', '9559Z4(GP)'], dtype='object')\n",
      "Columns in df4 after sorting: Index(['608V4D(GP)', '9559Z4(GP)'], dtype='object')\n"
     ]
    }
   ],
   "source": [
    "import pandas as pd\n",
    "\n",
    "# Assuming df1, df2, df3, df4 are your dataframes\n",
    "\n",
    "# Function to sort columns from the 2nd column onward\n",
    "def sort_columns_from_second(df):\n",
    "    first_col = df.columns[0]\n",
    "    other_cols = sorted(df.columns[1:])\n",
    "    return df[[first_col] + other_cols]\n",
    "\n",
    "# Function to sort all columns\n",
    "def sort_columns_from_first(df):\n",
    "    sorted_cols = sorted(df.columns)\n",
    "    return df[sorted_cols]\n",
    "\n",
    "# Apply the sorting\n",
    "df1 = sort_columns_from_second(df1)\n",
    "df2 = sort_columns_from_second(df2)\n",
    "df3 = sort_columns_from_second(df3)\n",
    "df4 = sort_columns_from_first(df4)\n",
    "\n",
    "# Optionally, replace the original dataframes with the sorted versions\n",
    "# df1, df2, df3, df4 = df1_sorted, df2_sorted, df3_sorted, df4_sorted\n",
    "\n",
    "print(\"Columns in df1 after sorting:\", df1.columns)\n",
    "print(\"Columns in df2 after sorting:\", df2.columns)\n",
    "print(\"Columns in df3 after sorting:\", df3.columns)\n",
    "print(\"Columns in df4 after sorting:\", df4.columns)\n"
   ]
  },
  {
   "cell_type": "code",
   "execution_count": 238,
   "metadata": {},
   "outputs": [
    {
     "name": "stdout",
     "output_type": "stream",
     "text": [
      "The columns in df1, df2, and df3 have the same order.\n"
     ]
    }
   ],
   "source": [
    "import pandas as pd\n",
    "\n",
    "# Assuming df1, df2, df3 are your dataframes\n",
    "\n",
    "# Get the list of columns for each dataframe\n",
    "columns_df1 = list(df1.columns)\n",
    "columns_df2 = list(df2.columns)\n",
    "columns_df3 = list(df3.columns)\n",
    "\n",
    "# Check if the order of columns is the same\n",
    "if columns_df1 == columns_df2 == columns_df3:\n",
    "    print(\"The columns in df1, df2, and df3 have the same order.\")\n",
    "else:\n",
    "    print(\"The columns do not have the same order.\")\n",
    "    \n",
    "    # Identify where the differences are\n",
    "    if columns_df1 != columns_df2:\n",
    "        print(\"Differences between df1 and df2:\")\n",
    "        print(f\"df1 columns: {columns_df1}\")\n",
    "        print(f\"df2 columns: {columns_df2}\")\n",
    "        \n",
    "    if columns_df1 != columns_df3:\n",
    "        print(\"Differences between df1 and df3:\")\n",
    "        print(f\"df1 columns: {columns_df1}\")\n",
    "        print(f\"df3 columns: {columns_df3}\")\n",
    "        \n",
    "    if columns_df2 != columns_df3:\n",
    "        print(\"Differences between df2 and df3:\")\n",
    "        print(f\"df2 columns: {columns_df2}\")\n",
    "        print(f\"df3 columns: {columns_df3}\")\n"
   ]
  },
  {
   "cell_type": "code",
   "execution_count": 239,
   "metadata": {},
   "outputs": [],
   "source": [
    "df1.to_excel(f\"C:/Users/defaultuser0/Desktop/Sneha_thesis/excel_files/Sov_Dirty_Prices/{country}_sov_dirtyprice.xlsx\", index = False)\n",
    "df2.to_excel(f\"C:/Users/defaultuser0/Desktop/Sneha_thesis/excel_files/Sov_DTM/{country}_sov_dtm.xlsx\", index = False)\n",
    "df3.to_excel(f\"C:/Users/defaultuser0/Desktop/Sneha_thesis/excel_files/Sov_Coupons/{country}_sov_coupon.xlsx\", index = False)\n",
    "df4.to_excel(f\"C:/Users/defaultuser0/Desktop/Sneha_thesis/excel_files/Sov_Coupon_Dates/{country}.xlsx\", index = False)"
   ]
  },
  {
   "cell_type": "code",
   "execution_count": null,
   "metadata": {},
   "outputs": [],
   "source": []
  }
 ],
 "metadata": {
  "kernelspec": {
   "display_name": "base",
   "language": "python",
   "name": "python3"
  },
  "language_info": {
   "codemirror_mode": {
    "name": "ipython",
    "version": 3
   },
   "file_extension": ".py",
   "mimetype": "text/x-python",
   "name": "python",
   "nbconvert_exporter": "python",
   "pygments_lexer": "ipython3",
   "version": "3.11.7"
  }
 },
 "nbformat": 4,
 "nbformat_minor": 2
}
