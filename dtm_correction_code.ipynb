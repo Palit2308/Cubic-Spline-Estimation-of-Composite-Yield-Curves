{
 "cells": [
  {
   "cell_type": "code",
   "execution_count": 85,
   "metadata": {},
   "outputs": [],
   "source": [
    "import pandas as pd\n",
    "import numpy as np"
   ]
  },
  {
   "cell_type": "code",
   "execution_count": 96,
   "metadata": {},
   "outputs": [],
   "source": [
    "country = 'Netherlands'\n"
   ]
  },
  {
   "cell_type": "code",
   "execution_count": 97,
   "metadata": {},
   "outputs": [],
   "source": [
    "df= pd.read_excel(f\"C:/Users/defaultuser0/Desktop/Sneha_thesis/excel_files/{country}_sov_dtm.xlsx\")\n",
    "\n"
   ]
  },
  {
   "cell_type": "code",
   "execution_count": 88,
   "metadata": {},
   "outputs": [
    {
     "name": "stdout",
     "output_type": "stream",
     "text": [
      "           Code  201HLG(GP)  206A4Q(GP)  208X85(GP)  213Y1P(GP)  220JYE(GP)  \\\n",
      "0    2010-01-01         NaN         NaN         NaN         NaN         NaN   \n",
      "1    2010-01-02         NaN         NaN         NaN         NaN         NaN   \n",
      "2    2010-01-03         NaN         NaN         NaN         NaN         NaN   \n",
      "3    2010-01-04         NaN         NaN         NaN         NaN         NaN   \n",
      "4    2010-01-05         NaN         NaN         NaN         NaN         NaN   \n",
      "...         ...         ...         ...         ...         ...         ...   \n",
      "4948 2023-07-20      9235.0        10.0      1837.0         NaN      2111.0   \n",
      "4949 2023-07-21      9234.0         9.0      1836.0         NaN      2110.0   \n",
      "4950 2023-07-22      9233.0         8.0      1835.0         NaN      2109.0   \n",
      "4951 2023-07-23      9232.0         7.0      1834.0         NaN      2108.0   \n",
      "4952 2023-07-24      9231.0         6.0      1833.0         NaN      2107.0   \n",
      "\n",
      "      221920(GP)  222K0C(GP)  225FYD(GP)  232WXQ(GP)  ...  902JEZ(GP)  \\\n",
      "0           8246         NaN         NaN         NaN  ...         NaN   \n",
      "1           8245         NaN         NaN         NaN  ...         NaN   \n",
      "2           8244         NaN         NaN         NaN  ...         NaN   \n",
      "3           8243         NaN         NaN         NaN  ...         NaN   \n",
      "4           8242         NaN         NaN         NaN  ...         NaN   \n",
      "...          ...         ...         ...         ...  ...         ...   \n",
      "4948        3298      4393.0       376.0      2295.0  ...     10696.0   \n",
      "4949        3297      4392.0       375.0      2294.0  ...     10695.0   \n",
      "4950        3296      4391.0       374.0      2293.0  ...     10694.0   \n",
      "4951        3295      4390.0       373.0      2292.0  ...     10693.0   \n",
      "4952        3294      4389.0       372.0      2291.0  ...     10692.0   \n",
      "\n",
      "      9071FJ(GP)  9257XT(GP)  935FLA(GP)  954WMH(GP)  9659L5(GP)  968RX3(GP)  \\\n",
      "0            NaN         NaN         NaN         NaN         NaN         NaN   \n",
      "1            NaN         NaN         NaN         NaN         NaN         NaN   \n",
      "2            NaN         NaN         NaN         NaN         NaN         NaN   \n",
      "3            NaN         NaN         NaN         NaN         NaN         NaN   \n",
      "4            NaN         NaN         NaN         NaN         NaN         NaN   \n",
      "...          ...         ...         ...         ...         ...         ...   \n",
      "4948      2202.0      3391.0       176.0      7315.0      1046.0      3572.0   \n",
      "4949      2201.0      3390.0       175.0      7314.0      1045.0      3571.0   \n",
      "4950      2200.0      3389.0       174.0      7313.0      1044.0      3570.0   \n",
      "4951      2199.0      3388.0       173.0      7312.0      1043.0      3569.0   \n",
      "4952      2198.0      3387.0       172.0      7311.0      1042.0      3568.0   \n",
      "\n",
      "      970U38(GP)  97828F(GP)  980Y4T(GP)  \n",
      "0            NaN       11168         NaN  \n",
      "1            NaN       11167         NaN  \n",
      "2            NaN       11166         NaN  \n",
      "3            NaN       11165         NaN  \n",
      "4            NaN       11164         NaN  \n",
      "...          ...         ...         ...  \n",
      "4948      5854.0        6220      3756.0  \n",
      "4949      5853.0        6219      3755.0  \n",
      "4950      5852.0        6218      3754.0  \n",
      "4951      5851.0        6217      3753.0  \n",
      "4952      5850.0        6216      3752.0  \n",
      "\n",
      "[4953 rows x 90 columns]\n"
     ]
    }
   ],
   "source": [
    "for col in df.columns:\n",
    "    # Loop through the rows of the current column\n",
    "    for i in range(1, len(df) - 1):  # Start from 1 to ensure we can check both previous and next rows\n",
    "        # First condition: If the difference between the current number and the subsequent number is -1\n",
    "        if df[col].iloc[i] - df[col].iloc[i + 1] == -1:\n",
    "            # Set all subsequent values in that column to NaN\n",
    "            df.loc[i:, col] = np.nan\n",
    "\n",
    "            break\n",
    "            \n",
    "        # Second condition: If the difference between the current number and the previous number is 1,\n",
    "        # and the difference between the current number and the next number is -1,\n",
    "        # and the current value is NaN\n",
    "        if (df[col].iloc[i - 1] == 1) and  pd.isna(df[col].iloc[i]):\n",
    "            # Set the current value to 0\n",
    "            df.at[i, col] = 0\n",
    "\n",
    "\n",
    "print(df)"
   ]
  },
  {
   "cell_type": "code",
   "execution_count": 101,
   "metadata": {},
   "outputs": [],
   "source": [
    "df.to_excel(f\"C:/Users/defaultuser0/Desktop/Sneha_thesis/excel_files/{country}_sov_dtm.xlsx\", index = False)"
   ]
  },
  {
   "cell_type": "code",
   "execution_count": null,
   "metadata": {},
   "outputs": [],
   "source": []
  },
  {
   "cell_type": "code",
   "execution_count": null,
   "metadata": {},
   "outputs": [],
   "source": []
  },
  {
   "cell_type": "code",
   "execution_count": null,
   "metadata": {},
   "outputs": [],
   "source": []
  },
  {
   "cell_type": "code",
   "execution_count": null,
   "metadata": {},
   "outputs": [],
   "source": []
  },
  {
   "cell_type": "code",
   "execution_count": null,
   "metadata": {},
   "outputs": [],
   "source": []
  },
  {
   "cell_type": "code",
   "execution_count": null,
   "metadata": {},
   "outputs": [],
   "source": []
  },
  {
   "cell_type": "code",
   "execution_count": null,
   "metadata": {},
   "outputs": [],
   "source": []
  },
  {
   "cell_type": "code",
   "execution_count": null,
   "metadata": {},
   "outputs": [],
   "source": []
  },
  {
   "cell_type": "code",
   "execution_count": null,
   "metadata": {},
   "outputs": [],
   "source": []
  },
  {
   "cell_type": "code",
   "execution_count": null,
   "metadata": {},
   "outputs": [],
   "source": []
  },
  {
   "cell_type": "code",
   "execution_count": null,
   "metadata": {},
   "outputs": [],
   "source": []
  },
  {
   "cell_type": "code",
   "execution_count": null,
   "metadata": {},
   "outputs": [],
   "source": []
  },
  {
   "cell_type": "code",
   "execution_count": null,
   "metadata": {},
   "outputs": [],
   "source": []
  },
  {
   "cell_type": "code",
   "execution_count": null,
   "metadata": {},
   "outputs": [],
   "source": []
  },
  {
   "cell_type": "code",
   "execution_count": null,
   "metadata": {},
   "outputs": [],
   "source": []
  },
  {
   "cell_type": "code",
   "execution_count": null,
   "metadata": {},
   "outputs": [],
   "source": []
  },
  {
   "cell_type": "code",
   "execution_count": null,
   "metadata": {},
   "outputs": [],
   "source": []
  },
  {
   "cell_type": "code",
   "execution_count": null,
   "metadata": {},
   "outputs": [],
   "source": []
  },
  {
   "cell_type": "code",
   "execution_count": null,
   "metadata": {},
   "outputs": [],
   "source": []
  },
  {
   "cell_type": "code",
   "execution_count": null,
   "metadata": {},
   "outputs": [],
   "source": []
  },
  {
   "cell_type": "code",
   "execution_count": null,
   "metadata": {},
   "outputs": [],
   "source": []
  },
  {
   "cell_type": "code",
   "execution_count": null,
   "metadata": {},
   "outputs": [],
   "source": []
  },
  {
   "cell_type": "code",
   "execution_count": null,
   "metadata": {},
   "outputs": [],
   "source": []
  },
  {
   "cell_type": "code",
   "execution_count": null,
   "metadata": {},
   "outputs": [],
   "source": []
  },
  {
   "cell_type": "code",
   "execution_count": null,
   "metadata": {},
   "outputs": [],
   "source": []
  },
  {
   "cell_type": "code",
   "execution_count": null,
   "metadata": {},
   "outputs": [],
   "source": []
  },
  {
   "cell_type": "code",
   "execution_count": null,
   "metadata": {},
   "outputs": [],
   "source": []
  },
  {
   "cell_type": "code",
   "execution_count": null,
   "metadata": {},
   "outputs": [],
   "source": []
  },
  {
   "cell_type": "code",
   "execution_count": null,
   "metadata": {},
   "outputs": [],
   "source": []
  },
  {
   "cell_type": "code",
   "execution_count": null,
   "metadata": {},
   "outputs": [],
   "source": []
  },
  {
   "cell_type": "code",
   "execution_count": null,
   "metadata": {},
   "outputs": [],
   "source": []
  },
  {
   "cell_type": "code",
   "execution_count": null,
   "metadata": {},
   "outputs": [],
   "source": []
  },
  {
   "cell_type": "code",
   "execution_count": null,
   "metadata": {},
   "outputs": [],
   "source": []
  },
  {
   "cell_type": "code",
   "execution_count": null,
   "metadata": {},
   "outputs": [],
   "source": []
  }
 ],
 "metadata": {
  "kernelspec": {
   "display_name": "base",
   "language": "python",
   "name": "python3"
  },
  "language_info": {
   "codemirror_mode": {
    "name": "ipython",
    "version": 3
   },
   "file_extension": ".py",
   "mimetype": "text/x-python",
   "name": "python",
   "nbconvert_exporter": "python",
   "pygments_lexer": "ipython3",
   "version": "3.11.7"
  }
 },
 "nbformat": 4,
 "nbformat_minor": 2
}
